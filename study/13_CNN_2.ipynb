{
 "cells": [
  {
   "cell_type": "code",
   "execution_count": 1,
   "id": "51878f6d",
   "metadata": {},
   "outputs": [],
   "source": [
    "from tensorflow.keras.models import Sequential\n",
    "from tensorflow.keras.layers import Dense\n",
    "from sklearn.preprocessing import LabelEncoder\n",
    "from sklearn.model_selection import train_test_split\n",
    "from keras.models import load_model\n",
    "from sklearn.model_selection import StratifiedKFold\n",
    "from keras.callbacks import ModelCheckpoint, EarlyStopping\n",
    "from keras.utils import np_utils\n",
    "from keras.layers import Dropout, Flatten, Conv2D, MaxPooling2D\n",
    "\n",
    "import numpy as np\n",
    "import pandas as pd\n",
    "import tensorflow as tf\n",
    "import seaborn as sns\n",
    "import matplotlib.pyplot as plt\n",
    "import os\n",
    "import sys\n",
    "\n",
    "from keras.datasets import mnist"
   ]
  },
  {
   "cell_type": "code",
   "execution_count": 2,
   "id": "d6c21dff",
   "metadata": {},
   "outputs": [],
   "source": [
    "(train_x, train_y), (test_x, test_y) = mnist.load_data()"
   ]
  },
  {
   "cell_type": "code",
   "execution_count": 3,
   "id": "efbc044e",
   "metadata": {},
   "outputs": [
    {
     "data": {
      "text/plain": [
       "((60000, 28, 28), (10000, 28, 28))"
      ]
     },
     "execution_count": 3,
     "metadata": {},
     "output_type": "execute_result"
    }
   ],
   "source": [
    "train_x.shape, test_x.shape"
   ]
  },
  {
   "cell_type": "code",
   "execution_count": 4,
   "id": "a1e3c92b",
   "metadata": {},
   "outputs": [
    {
     "data": {
      "image/png": "[encoded data removed]",
      "text/plain": [
       "<Figure size 432x288 with 1 Axes>"
      ]
     },
     "metadata": {
      "needs_background": "light"
     },
     "output_type": "display_data"
    }
   ],
   "source": [
    "plt.imshow(train_x[0], cmap='Greys')\n",
    "plt.show()\n",
    "plt.close()"
   ]
  },
  {
   "cell_type": "code",
   "execution_count": 5,
   "id": "0e38b760",
   "metadata": {},
   "outputs": [
    {
     "name": "stdout",
     "output_type": "stream",
     "text": [
      "0\t0\t0\t0\t0\t0\t0\t0\t0\t0\t0\t0\t0\t0\t0\t0\t0\t0\t0\t0\t0\t0\t0\t0\t0\t0\t0\t0\t\n",
      "0\t0\t0\t0\t0\t0\t0\t0\t0\t0\t0\t0\t0\t0\t0\t0\t0\t0\t0\t0\t0\t0\t0\t0\t0\t0\t0\t0\t\n",
      "0\t0\t0\t0\t0\t0\t0\t0\t0\t0\t0\t0\t0\t0\t0\t0\t0\t0\t0\t0\t0\t0\t0\t0\t0\t0\t0\t0\t\n",
      "0\t0\t0\t0\t0\t0\t0\t0\t0\t0\t0\t0\t0\t0\t0\t0\t0\t0\t0\t0\t0\t0\t0\t0\t0\t0\t0\t0\t\n",
      "0\t0\t0\t0\t0\t0\t0\t0\t0\t0\t0\t0\t0\t0\t0\t0\t0\t0\t0\t0\t0\t0\t0\t0\t0\t0\t0\t0\t\n",
      "0\t0\t0\t0\t0\t0\t0\t0\t0\t0\t0\t0\t3\t18\t18\t18\t126\t136\t175\t26\t166\t255\t247\t127\t0\t0\t0\t0\t\n",
      "0\t0\t0\t0\t0\t0\t0\t0\t30\t36\t94\t154\t170\t253\t253\t253\t253\t253\t225\t172\t253\t242\t195\t64\t0\t0\t0\t0\t\n",
      "0\t0\t0\t0\t0\t0\t0\t49\t238\t253\t253\t253\t253\t253\t253\t253\t253\t251\t93\t82\t82\t56\t39\t0\t0\t0\t0\t0\t\n",
      "0\t0\t0\t0\t0\t0\t0\t18\t219\t253\t253\t253\t253\t253\t198\t182\t247\t241\t0\t0\t0\t0\t0\t0\t0\t0\t0\t0\t\n",
      "0\t0\t0\t0\t0\t0\t0\t0\t80\t156\t107\t253\t253\t205\t11\t0\t43\t154\t0\t0\t0\t0\t0\t0\t0\t0\t0\t0\t\n",
      "0\t0\t0\t0\t0\t0\t0\t0\t0\t14\t1\t154\t253\t90\t0\t0\t0\t0\t0\t0\t0\t0\t0\t0\t0\t0\t0\t0\t\n",
      "0\t0\t0\t0\t0\t0\t0\t0\t0\t0\t0\t139\t253\t190\t2\t0\t0\t0\t0\t0\t0\t0\t0\t0\t0\t0\t0\t0\t\n",
      "0\t0\t0\t0\t0\t0\t0\t0\t0\t0\t0\t11\t190\t253\t70\t0\t0\t0\t0\t0\t0\t0\t0\t0\t0\t0\t0\t0\t\n",
      "0\t0\t0\t0\t0\t0\t0\t0\t0\t0\t0\t0\t35\t241\t225\t160\t108\t1\t0\t0\t0\t0\t0\t0\t0\t0\t0\t0\t\n",
      "0\t0\t0\t0\t0\t0\t0\t0\t0\t0\t0\t0\t0\t81\t240\t253\t253\t119\t25\t0\t0\t0\t0\t0\t0\t0\t0\t0\t\n",
      "0\t0\t0\t0\t0\t0\t0\t0\t0\t0\t0\t0\t0\t0\t45\t186\t253\t253\t150\t27\t0\t0\t0\t0\t0\t0\t0\t0\t\n",
      "0\t0\t0\t0\t0\t0\t0\t0\t0\t0\t0\t0\t0\t0\t0\t16\t93\t252\t253\t187\t0\t0\t0\t0\t0\t0\t0\t0\t\n",
      "0\t0\t0\t0\t0\t0\t0\t0\t0\t0\t0\t0\t0\t0\t0\t0\t0\t249\t253\t249\t64\t0\t0\t0\t0\t0\t0\t0\t\n",
      "0\t0\t0\t0\t0\t0\t0\t0\t0\t0\t0\t0\t0\t0\t46\t130\t183\t253\t253\t207\t2\t0\t0\t0\t0\t0\t0\t0\t\n",
      "0\t0\t0\t0\t0\t0\t0\t0\t0\t0\t0\t0\t39\t148\t229\t253\t253\t253\t250\t182\t0\t0\t0\t0\t0\t0\t0\t0\t\n",
      "0\t0\t0\t0\t0\t0\t0\t0\t0\t0\t24\t114\t221\t253\t253\t253\t253\t201\t78\t0\t0\t0\t0\t0\t0\t0\t0\t0\t\n",
      "0\t0\t0\t0\t0\t0\t0\t0\t23\t66\t213\t253\t253\t253\t253\t198\t81\t2\t0\t0\t0\t0\t0\t0\t0\t0\t0\t0\t\n",
      "0\t0\t0\t0\t0\t0\t18\t171\t219\t253\t253\t253\t253\t195\t80\t9\t0\t0\t0\t0\t0\t0\t0\t0\t0\t0\t0\t0\t\n",
      "0\t0\t0\t0\t55\t172\t226\t253\t253\t253\t253\t244\t133\t11\t0\t0\t0\t0\t0\t0\t0\t0\t0\t0\t0\t0\t0\t0\t\n",
      "0\t0\t0\t0\t136\t253\t253\t253\t212\t135\t132\t16\t0\t0\t0\t0\t0\t0\t0\t0\t0\t0\t0\t0\t0\t0\t0\t0\t\n",
      "0\t0\t0\t0\t0\t0\t0\t0\t0\t0\t0\t0\t0\t0\t0\t0\t0\t0\t0\t0\t0\t0\t0\t0\t0\t0\t0\t0\t\n",
      "0\t0\t0\t0\t0\t0\t0\t0\t0\t0\t0\t0\t0\t0\t0\t0\t0\t0\t0\t0\t0\t0\t0\t0\t0\t0\t0\t0\t\n",
      "0\t0\t0\t0\t0\t0\t0\t0\t0\t0\t0\t0\t0\t0\t0\t0\t0\t0\t0\t0\t0\t0\t0\t0\t0\t0\t0\t0\t\n"
     ]
    }
   ],
   "source": [
    "for x in train_x[0]:\n",
    "    for i in x:\n",
    "        sys.stdout.write('%d\\t' %i)\n",
    "    sys.stdout.write('\\n')"
   ]
  },
  {
   "cell_type": "code",
   "execution_count": 6,
   "id": "9d23b1e8",
   "metadata": {},
   "outputs": [
    {
     "data": {
      "text/plain": [
       "((60000, 28, 28, 1), (10000, 28, 28, 1))"
      ]
     },
     "execution_count": 6,
     "metadata": {},
     "output_type": "execute_result"
    }
   ],
   "source": [
    "train_x = train_x.reshape(train_x.shape[0], 28, 28, -1)\n",
    "test_x = test_x.reshape(test_x.shape[0], 28, 28, -1)\n",
    "train_x.shape, test_x.shape "
   ]
  },
  {
   "cell_type": "code",
   "execution_count": 7,
   "id": "10c5de3b",
   "metadata": {},
   "outputs": [],
   "source": [
    "train_x = train_x.astype('float64')\n",
    "test_x = test_x.astype('float64')\n",
    "\n",
    "train_x = train_x / 255\n",
    "test_x = test_x / 255"
   ]
  },
  {
   "cell_type": "code",
   "execution_count": 8,
   "id": "7899d252",
   "metadata": {},
   "outputs": [],
   "source": [
    "train_y = np_utils.to_categorical(train_y, 10)\n",
    "test_y = np_utils.to_categorical(test_y, 10)"
   ]
  },
  {
   "cell_type": "code",
   "execution_count": 9,
   "id": "df439335",
   "metadata": {},
   "outputs": [
    {
     "name": "stdout",
     "output_type": "stream",
     "text": [
      "[0. 0. 0. 0. 0. 1. 0. 0. 0. 0.]\n"
     ]
    }
   ],
   "source": [
    "print(train_y[0])"
   ]
  },
  {
   "cell_type": "code",
   "execution_count": 10,
   "id": "dee1fc96",
   "metadata": {},
   "outputs": [],
   "source": [
    "model = Sequential()\n",
    "\n",
    "model.add(Conv2D(32, kernel_size=(3, 3), input_shape = (28, 28, 1), activation = 'relu'))\n",
    "model.add(Conv2D(64, kernel_size=(3, 3), activation = 'relu'))\n",
    "model.add(MaxPooling2D(pool_size= 2))\n",
    "model.add(Dropout(0.25))\n",
    "model.add(Flatten())\n",
    "\n",
    "model.add(Dense(128, activation= 'relu'))\n",
    "model.add(Dropout(0.5))\n",
    "model.add(Dense(10, activation= 'softmax'))\n",
    "\n",
    "model.compile(loss = 'categorical_crossentropy', optimizer = 'adam', metrics=['accuracy'])"
   ]
  },
  {
   "cell_type": "code",
   "execution_count": 11,
   "id": "be020654",
   "metadata": {},
   "outputs": [],
   "source": [
    "dir_name = '13_cnn_dir_2'\n",
    "\n",
    "if not os.path.exists(dir_name):\n",
    "    os.mkdir(dir_name)\n",
    "    \n",
    "model_path = './13_cnn_dir_2/{epoch:02d}-{val_loss:.4f}.hdf5'\n",
    "checkpoint = ModelCheckpoint(filepath = model_path,\n",
    "                             monitor = 'val_loss', \n",
    "                             save_best_only=True,\n",
    "                             verbose = 0)\n",
    "\n",
    "\n",
    "early_stopping_callback = EarlyStopping(monitor='val_loss',\n",
    "                                        verbose=0,\n",
    "                                        patience=10)"
   ]
  },
  {
   "cell_type": "code",
   "execution_count": 12,
   "id": "a6f672b0",
   "metadata": {},
   "outputs": [
    {
     "name": "stdout",
     "output_type": "stream",
     "text": [
      "Epoch 1/30\n",
      "300/300 [==============================] - 78s 257ms/step - loss: 0.2765 - accuracy: 0.9157 - val_loss: 0.0559 - val_accuracy: 0.9814\n",
      "Epoch 2/30\n",
      "300/300 [==============================] - 76s 252ms/step - loss: 0.0881 - accuracy: 0.9740 - val_loss: 0.0397 - val_accuracy: 0.9864\n",
      "Epoch 3/30\n",
      "300/300 [==============================] - 77s 258ms/step - loss: 0.0660 - accuracy: 0.9804 - val_loss: 0.0325 - val_accuracy: 0.9887\n",
      "Epoch 4/30\n",
      "300/300 [==============================] - 77s 256ms/step - loss: 0.0520 - accuracy: 0.9838 - val_loss: 0.0306 - val_accuracy: 0.9897\n",
      "Epoch 5/30\n",
      "300/300 [==============================] - 77s 258ms/step - loss: 0.0438 - accuracy: 0.9862 - val_loss: 0.0304 - val_accuracy: 0.9891\n",
      "Epoch 6/30\n",
      "300/300 [==============================] - 77s 255ms/step - loss: 0.0399 - accuracy: 0.9876 - val_loss: 0.0282 - val_accuracy: 0.9908\n",
      "Epoch 7/30\n",
      "300/300 [==============================] - 77s 256ms/step - loss: 0.0344 - accuracy: 0.9891 - val_loss: 0.0269 - val_accuracy: 0.9916\n",
      "Epoch 8/30\n",
      "300/300 [==============================] - 77s 256ms/step - loss: 0.0299 - accuracy: 0.9903 - val_loss: 0.0257 - val_accuracy: 0.9920\n",
      "Epoch 9/30\n",
      "300/300 [==============================] - 77s 256ms/step - loss: 0.0295 - accuracy: 0.9901 - val_loss: 0.0260 - val_accuracy: 0.9913\n",
      "Epoch 10/30\n",
      "300/300 [==============================] - 78s 259ms/step - loss: 0.0255 - accuracy: 0.9916 - val_loss: 0.0256 - val_accuracy: 0.9924\n",
      "Epoch 11/30\n",
      "300/300 [==============================] - 76s 252ms/step - loss: 0.0238 - accuracy: 0.9920 - val_loss: 0.0291 - val_accuracy: 0.9917\n",
      "Epoch 12/30\n",
      "300/300 [==============================] - 76s 253ms/step - loss: 0.0221 - accuracy: 0.9925 - val_loss: 0.0246 - val_accuracy: 0.9932\n",
      "Epoch 13/30\n",
      "300/300 [==============================] - 77s 255ms/step - loss: 0.0204 - accuracy: 0.9933 - val_loss: 0.0253 - val_accuracy: 0.9935\n",
      "Epoch 14/30\n",
      "300/300 [==============================] - 76s 254ms/step - loss: 0.0176 - accuracy: 0.9942 - val_loss: 0.0286 - val_accuracy: 0.9926\n",
      "Epoch 15/30\n",
      "300/300 [==============================] - 76s 252ms/step - loss: 0.0181 - accuracy: 0.9938 - val_loss: 0.0290 - val_accuracy: 0.9922\n",
      "Epoch 16/30\n",
      "300/300 [==============================] - 77s 256ms/step - loss: 0.0182 - accuracy: 0.9938 - val_loss: 0.0288 - val_accuracy: 0.9928\n",
      "Epoch 17/30\n",
      "300/300 [==============================] - 76s 255ms/step - loss: 0.0149 - accuracy: 0.9951 - val_loss: 0.0306 - val_accuracy: 0.9927\n",
      "Epoch 18/30\n",
      "300/300 [==============================] - 76s 254ms/step - loss: 0.0145 - accuracy: 0.9950 - val_loss: 0.0289 - val_accuracy: 0.9925\n",
      "Epoch 19/30\n",
      "300/300 [==============================] - 77s 255ms/step - loss: 0.0154 - accuracy: 0.9948 - val_loss: 0.0292 - val_accuracy: 0.9933\n",
      "Epoch 20/30\n",
      "300/300 [==============================] - 78s 260ms/step - loss: 0.0145 - accuracy: 0.9952 - val_loss: 0.0301 - val_accuracy: 0.9926\n",
      "Epoch 21/30\n",
      "300/300 [==============================] - 92s 306ms/step - loss: 0.0124 - accuracy: 0.9958 - val_loss: 0.0278 - val_accuracy: 0.9935\n",
      "Epoch 22/30\n",
      "300/300 [==============================] - 75s 251ms/step - loss: 0.0124 - accuracy: 0.9961 - val_loss: 0.0272 - val_accuracy: 0.9929\n"
     ]
    }
   ],
   "source": [
    "history = model.fit(train_x, train_y, \n",
    "                    validation_data=(test_x, test_y),\n",
    "                    epochs = 30, \n",
    "                    batch_size = 200, \n",
    "                    callbacks=[checkpoint, early_stopping_callback])"
   ]
  },
  {
   "cell_type": "code",
   "execution_count": 13,
   "id": "14108f99",
   "metadata": {},
   "outputs": [
    {
     "name": "stdout",
     "output_type": "stream",
     "text": [
      "313/313 [==============================] - 4s 12ms/step - loss: 0.0272 - accuracy: 0.9929\n",
      "test accuracy :  0.992900013923645\n"
     ]
    }
   ],
   "source": [
    "print(\"test accuracy : \", model.evaluate(test_x, test_y)[1])"
   ]
  },
  {
   "cell_type": "code",
   "execution_count": 14,
   "id": "68a9b962",
   "metadata": {},
   "outputs": [
    {
     "data": {
      "image/png": "[encoded data removed]",
      "text/plain": [
       "<Figure size 432x288 with 1 Axes>"
      ]
     },
     "metadata": {
      "needs_background": "light"
     },
     "output_type": "display_data"
    }
   ],
   "source": [
    "y_vloss = history.history['val_loss']\n",
    "y_loss = history.history['loss']\n",
    "\n",
    "x_len = np.arange(len(y_loss))\n",
    "\n",
    "plt.plot(x_len, y_vloss, marker='.', c='red', label = 'testset_loss')\n",
    "plt.plot(x_len, y_loss, marker='.', c='blue', label = 'trainset_loss')\n",
    "\n",
    "plt.grid()\n",
    "plt.xlabel('epoch')\n",
    "plt.ylabel('loss')\n",
    "plt.show()\n",
    "plt.close()"
   ]
  },
  {
   "cell_type": "code",
   "execution_count": null,
   "id": "0ae3f7a0",
   "metadata": {},
   "outputs": [],
   "source": []
  }
 ],
 "metadata": {
  "kernelspec": {
   "display_name": "Python 3 (ipykernel)",
   "language": "python",
   "name": "python3"
  },
  "language_info": {
   "codemirror_mode": {
    "name": "ipython",
    "version": 3
   },
   "file_extension": ".py",
   "mimetype": "text/x-python",
   "name": "python",
   "nbconvert_exporter": "python",
   "pygments_lexer": "ipython3",
   "version": "3.9.7"
  }
 },
 "nbformat": 4,
 "nbformat_minor": 5
}
