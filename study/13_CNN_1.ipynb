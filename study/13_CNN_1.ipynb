{
 "cells": [
  {
   "cell_type": "code",
   "execution_count": 22,
   "id": "51878f6d",
   "metadata": {},
   "outputs": [],
   "source": [
    "from tensorflow.keras.models import Sequential\n",
    "from tensorflow.keras.layers import Dense\n",
    "from sklearn.preprocessing import LabelEncoder\n",
    "from sklearn.model_selection import train_test_split\n",
    "from keras.models import load_model\n",
    "from sklearn.model_selection import StratifiedKFold\n",
    "from keras.callbacks import ModelCheckpoint, EarlyStopping\n",
    "from keras.utils import np_utils\n",
    "\n",
    "import numpy as np\n",
    "import pandas as pd\n",
    "import tensorflow as tf\n",
    "import seaborn as sns\n",
    "import matplotlib.pyplot as plt\n",
    "import os\n",
    "import sys\n",
    "\n",
    "from keras.datasets import mnist"
   ]
  },
  {
   "cell_type": "code",
   "execution_count": 2,
   "id": "d6c21dff",
   "metadata": {},
   "outputs": [
    {
     "name": "stdout",
     "output_type": "stream",
     "text": [
      "Downloading data from https://storage.googleapis.com/tensorflow/tf-keras-datasets/mnist.npz\n",
      "11493376/11490434 [==============================] - 2s 0us/step\n",
      "11501568/11490434 [==============================] - 2s 0us/step\n"
     ]
    }
   ],
   "source": [
    "(train_x, train_y), (test_x, test_y) = mnist.load_data()"
   ]
  },
  {
   "cell_type": "code",
   "execution_count": 4,
   "id": "efbc044e",
   "metadata": {},
   "outputs": [
    {
     "data": {
      "text/plain": [
       "((60000, 28, 28), (10000, 28, 28))"
      ]
     },
     "execution_count": 4,
     "metadata": {},
     "output_type": "execute_result"
    }
   ],
   "source": [
    "train_x.shape, test_x.shape"
   ]
  },
  {
   "cell_type": "code",
   "execution_count": 7,
   "id": "a1e3c92b",
   "metadata": {},
   "outputs": [
    {
     "data": {
      "image/png": "[encoded data removed]",
      "text/plain": [
       "<Figure size 432x288 with 1 Axes>"
      ]
     },
     "metadata": {
      "needs_background": "light"
     },
     "output_type": "display_data"
    }
   ],
   "source": [
    "plt.imshow(train_x[0], cmap='Greys')\n",
    "plt.show()\n",
    "plt.close()"
   ]
  },
  {
   "cell_type": "code",
   "execution_count": 10,
   "id": "0e38b760",
   "metadata": {},
   "outputs": [
    {
     "name": "stdout",
     "output_type": "stream",
     "text": [
      "0\t0\t0\t0\t0\t0\t0\t0\t0\t0\t0\t0\t0\t0\t0\t0\t0\t0\t0\t0\t0\t0\t0\t0\t0\t0\t0\t0\t\n",
      "0\t0\t0\t0\t0\t0\t0\t0\t0\t0\t0\t0\t0\t0\t0\t0\t0\t0\t0\t0\t0\t0\t0\t0\t0\t0\t0\t0\t\n",
      "0\t0\t0\t0\t0\t0\t0\t0\t0\t0\t0\t0\t0\t0\t0\t0\t0\t0\t0\t0\t0\t0\t0\t0\t0\t0\t0\t0\t\n",
      "0\t0\t0\t0\t0\t0\t0\t0\t0\t0\t0\t0\t0\t0\t0\t0\t0\t0\t0\t0\t0\t0\t0\t0\t0\t0\t0\t0\t\n",
      "0\t0\t0\t0\t0\t0\t0\t0\t0\t0\t0\t0\t0\t0\t0\t0\t0\t0\t0\t0\t0\t0\t0\t0\t0\t0\t0\t0\t\n",
      "0\t0\t0\t0\t0\t0\t0\t0\t0\t0\t0\t0\t3\t18\t18\t18\t126\t136\t175\t26\t166\t255\t247\t127\t0\t0\t0\t0\t\n",
      "0\t0\t0\t0\t0\t0\t0\t0\t30\t36\t94\t154\t170\t253\t253\t253\t253\t253\t225\t172\t253\t242\t195\t64\t0\t0\t0\t0\t\n",
      "0\t0\t0\t0\t0\t0\t0\t49\t238\t253\t253\t253\t253\t253\t253\t253\t253\t251\t93\t82\t82\t56\t39\t0\t0\t0\t0\t0\t\n",
      "0\t0\t0\t0\t0\t0\t0\t18\t219\t253\t253\t253\t253\t253\t198\t182\t247\t241\t0\t0\t0\t0\t0\t0\t0\t0\t0\t0\t\n",
      "0\t0\t0\t0\t0\t0\t0\t0\t80\t156\t107\t253\t253\t205\t11\t0\t43\t154\t0\t0\t0\t0\t0\t0\t0\t0\t0\t0\t\n",
      "0\t0\t0\t0\t0\t0\t0\t0\t0\t14\t1\t154\t253\t90\t0\t0\t0\t0\t0\t0\t0\t0\t0\t0\t0\t0\t0\t0\t\n",
      "0\t0\t0\t0\t0\t0\t0\t0\t0\t0\t0\t139\t253\t190\t2\t0\t0\t0\t0\t0\t0\t0\t0\t0\t0\t0\t0\t0\t\n",
      "0\t0\t0\t0\t0\t0\t0\t0\t0\t0\t0\t11\t190\t253\t70\t0\t0\t0\t0\t0\t0\t0\t0\t0\t0\t0\t0\t0\t\n",
      "0\t0\t0\t0\t0\t0\t0\t0\t0\t0\t0\t0\t35\t241\t225\t160\t108\t1\t0\t0\t0\t0\t0\t0\t0\t0\t0\t0\t\n",
      "0\t0\t0\t0\t0\t0\t0\t0\t0\t0\t0\t0\t0\t81\t240\t253\t253\t119\t25\t0\t0\t0\t0\t0\t0\t0\t0\t0\t\n",
      "0\t0\t0\t0\t0\t0\t0\t0\t0\t0\t0\t0\t0\t0\t45\t186\t253\t253\t150\t27\t0\t0\t0\t0\t0\t0\t0\t0\t\n",
      "0\t0\t0\t0\t0\t0\t0\t0\t0\t0\t0\t0\t0\t0\t0\t16\t93\t252\t253\t187\t0\t0\t0\t0\t0\t0\t0\t0\t\n",
      "0\t0\t0\t0\t0\t0\t0\t0\t0\t0\t0\t0\t0\t0\t0\t0\t0\t249\t253\t249\t64\t0\t0\t0\t0\t0\t0\t0\t\n",
      "0\t0\t0\t0\t0\t0\t0\t0\t0\t0\t0\t0\t0\t0\t46\t130\t183\t253\t253\t207\t2\t0\t0\t0\t0\t0\t0\t0\t\n",
      "0\t0\t0\t0\t0\t0\t0\t0\t0\t0\t0\t0\t39\t148\t229\t253\t253\t253\t250\t182\t0\t0\t0\t0\t0\t0\t0\t0\t\n",
      "0\t0\t0\t0\t0\t0\t0\t0\t0\t0\t24\t114\t221\t253\t253\t253\t253\t201\t78\t0\t0\t0\t0\t0\t0\t0\t0\t0\t\n",
      "0\t0\t0\t0\t0\t0\t0\t0\t23\t66\t213\t253\t253\t253\t253\t198\t81\t2\t0\t0\t0\t0\t0\t0\t0\t0\t0\t0\t\n",
      "0\t0\t0\t0\t0\t0\t18\t171\t219\t253\t253\t253\t253\t195\t80\t9\t0\t0\t0\t0\t0\t0\t0\t0\t0\t0\t0\t0\t\n",
      "0\t0\t0\t0\t55\t172\t226\t253\t253\t253\t253\t244\t133\t11\t0\t0\t0\t0\t0\t0\t0\t0\t0\t0\t0\t0\t0\t0\t\n",
      "0\t0\t0\t0\t136\t253\t253\t253\t212\t135\t132\t16\t0\t0\t0\t0\t0\t0\t0\t0\t0\t0\t0\t0\t0\t0\t0\t0\t\n",
      "0\t0\t0\t0\t0\t0\t0\t0\t0\t0\t0\t0\t0\t0\t0\t0\t0\t0\t0\t0\t0\t0\t0\t0\t0\t0\t0\t0\t\n",
      "0\t0\t0\t0\t0\t0\t0\t0\t0\t0\t0\t0\t0\t0\t0\t0\t0\t0\t0\t0\t0\t0\t0\t0\t0\t0\t0\t0\t\n",
      "0\t0\t0\t0\t0\t0\t0\t0\t0\t0\t0\t0\t0\t0\t0\t0\t0\t0\t0\t0\t0\t0\t0\t0\t0\t0\t0\t0\t\n"
     ]
    }
   ],
   "source": [
    "for x in train_x[0]:\n",
    "    for i in x:\n",
    "        sys.stdout.write('%d\\t' %i)\n",
    "    sys.stdout.write('\\n')"
   ]
  },
  {
   "cell_type": "code",
   "execution_count": 16,
   "id": "9d23b1e8",
   "metadata": {},
   "outputs": [
    {
     "data": {
      "text/plain": [
       "((60000, 784), (10000, 784))"
      ]
     },
     "execution_count": 16,
     "metadata": {},
     "output_type": "execute_result"
    }
   ],
   "source": [
    "train_x = train_x.reshape(train_x.shape[0], -1)\n",
    "test_x = test_x.reshape(test_x.shape[0], -1)\n",
    "train_x.shape, test_x.shape "
   ]
  },
  {
   "cell_type": "code",
   "execution_count": 17,
   "id": "10c5de3b",
   "metadata": {},
   "outputs": [],
   "source": [
    "train_x = train_x.astype('float64')\n",
    "test_x = test_x.astype('float64')\n",
    "\n",
    "train_x = train_x / 255\n",
    "test_x = test_x / 255"
   ]
  },
  {
   "cell_type": "code",
   "execution_count": 18,
   "id": "bec9f5bb",
   "metadata": {},
   "outputs": [
    {
     "name": "stdout",
     "output_type": "stream",
     "text": [
      "y : 5\n"
     ]
    }
   ],
   "source": [
    "print(\"y : %d\" %(train_y[0]))"
   ]
  },
  {
   "cell_type": "code",
   "execution_count": 20,
   "id": "7899d252",
   "metadata": {},
   "outputs": [],
   "source": [
    "train_y = np_utils.to_categorical(train_y, 10)\n",
    "test_y = np_utils.to_categorical(test_y, 10)"
   ]
  },
  {
   "cell_type": "code",
   "execution_count": 21,
   "id": "df439335",
   "metadata": {},
   "outputs": [
    {
     "name": "stdout",
     "output_type": "stream",
     "text": [
      "[0. 0. 0. 0. 0. 1. 0. 0. 0. 0.]\n"
     ]
    }
   ],
   "source": [
    "print(train_y[0])"
   ]
  },
  {
   "cell_type": "code",
   "execution_count": 23,
   "id": "dee1fc96",
   "metadata": {},
   "outputs": [],
   "source": [
    "model = Sequential()\n",
    "\n",
    "model.add(Dense(512, input_dim = 784, activation = 'relu'))\n",
    "model.add(Dense(10, activation= 'softmax'))\n",
    "\n",
    "model.compile(loss = 'categorical_crossentropy', optimizer = 'adam', metrics=['accuracy'])"
   ]
  },
  {
   "cell_type": "code",
   "execution_count": 24,
   "id": "be020654",
   "metadata": {},
   "outputs": [],
   "source": [
    "dir_name = '13_cnn_dir'\n",
    "\n",
    "if not os.path.exists(dir_name):\n",
    "    os.mkdir(dir_name)\n",
    "    \n",
    "model_path = './13_cnn_dir/{epoch:02d}-{val_loss:.4f}.hdf5'\n",
    "checkpoint = ModelCheckpoint(filepath = model_path,\n",
    "                             monitor = 'val_loss', \n",
    "                             save_best_only=True,\n",
    "                             verbose = 0)\n",
    "\n",
    "\n",
    "early_stopping_callback = EarlyStopping(monitor='val_loss',\n",
    "                                        verbose=0,\n",
    "                                        patience=10)"
   ]
  },
  {
   "cell_type": "code",
   "execution_count": 28,
   "id": "a6f672b0",
   "metadata": {},
   "outputs": [
    {
     "name": "stdout",
     "output_type": "stream",
     "text": [
      "Epoch 1/30\n",
      "300/300 [==============================] - 3s 11ms/step - loss: 0.4837 - accuracy: 0.8771 - val_loss: 53.7896 - val_accuracy: 0.7681\n",
      "Epoch 2/30\n",
      "300/300 [==============================] - 4s 12ms/step - loss: 0.3995 - accuracy: 0.8920 - val_loss: 54.4193 - val_accuracy: 0.7866\n",
      "Epoch 3/30\n",
      "300/300 [==============================] - 4s 13ms/step - loss: 0.3573 - accuracy: 0.9004 - val_loss: 53.6494 - val_accuracy: 0.7992\n",
      "Epoch 4/30\n",
      "300/300 [==============================] - 4s 12ms/step - loss: 0.3317 - accuracy: 0.9059 - val_loss: 52.2353 - val_accuracy: 0.8097\n",
      "Epoch 5/30\n",
      "300/300 [==============================] - 4s 12ms/step - loss: 0.3138 - accuracy: 0.9109 - val_loss: 49.5834 - val_accuracy: 0.8244\n",
      "Epoch 6/30\n",
      "300/300 [==============================] - 4s 13ms/step - loss: 0.3000 - accuracy: 0.9133 - val_loss: 48.5691 - val_accuracy: 0.8324\n",
      "Epoch 7/30\n",
      "300/300 [==============================] - 4s 14ms/step - loss: 0.2888 - accuracy: 0.9174 - val_loss: 46.1748 - val_accuracy: 0.8434\n",
      "Epoch 8/30\n",
      "300/300 [==============================] - 4s 14ms/step - loss: 0.2792 - accuracy: 0.9197 - val_loss: 44.1131 - val_accuracy: 0.8501\n",
      "Epoch 9/30\n",
      "300/300 [==============================] - 4s 14ms/step - loss: 0.2698 - accuracy: 0.9221 - val_loss: 41.8688 - val_accuracy: 0.8595\n",
      "Epoch 10/30\n",
      "300/300 [==============================] - 4s 12ms/step - loss: 0.2618 - accuracy: 0.9241 - val_loss: 40.7104 - val_accuracy: 0.8661\n",
      "Epoch 11/30\n",
      "300/300 [==============================] - 4s 13ms/step - loss: 0.2540 - accuracy: 0.9266 - val_loss: 38.1997 - val_accuracy: 0.8746\n",
      "Epoch 12/30\n",
      "300/300 [==============================] - 4s 15ms/step - loss: 0.2464 - accuracy: 0.9287 - val_loss: 36.9455 - val_accuracy: 0.8805\n",
      "Epoch 13/30\n",
      "300/300 [==============================] - 2s 8ms/step - loss: 0.2392 - accuracy: 0.9309 - val_loss: 35.1495 - val_accuracy: 0.8849\n",
      "Epoch 14/30\n",
      "300/300 [==============================] - 2s 7ms/step - loss: 0.2316 - accuracy: 0.9331 - val_loss: 32.8887 - val_accuracy: 0.8943\n",
      "Epoch 15/30\n",
      "300/300 [==============================] - 2s 7ms/step - loss: 0.2246 - accuracy: 0.9354 - val_loss: 31.2028 - val_accuracy: 0.9002\n",
      "Epoch 16/30\n",
      "300/300 [==============================] - 2s 7ms/step - loss: 0.2178 - accuracy: 0.9369 - val_loss: 30.3678 - val_accuracy: 0.9028\n",
      "Epoch 17/30\n",
      "300/300 [==============================] - 2s 7ms/step - loss: 0.2110 - accuracy: 0.9391 - val_loss: 29.6969 - val_accuracy: 0.9062\n",
      "Epoch 18/30\n",
      "300/300 [==============================] - 2s 7ms/step - loss: 0.2043 - accuracy: 0.9413 - val_loss: 27.3278 - val_accuracy: 0.9142\n",
      "Epoch 19/30\n",
      "300/300 [==============================] - 2s 7ms/step - loss: 0.1977 - accuracy: 0.9431 - val_loss: 27.2821 - val_accuracy: 0.9151\n",
      "Epoch 20/30\n",
      "300/300 [==============================] - 2s 7ms/step - loss: 0.1919 - accuracy: 0.9453 - val_loss: 25.0662 - val_accuracy: 0.9208\n",
      "Epoch 21/30\n",
      "300/300 [==============================] - 2s 7ms/step - loss: 0.1858 - accuracy: 0.9468 - val_loss: 24.4997 - val_accuracy: 0.9215\n",
      "Epoch 22/30\n",
      "300/300 [==============================] - 2s 7ms/step - loss: 0.1801 - accuracy: 0.9485 - val_loss: 23.9236 - val_accuracy: 0.9240\n",
      "Epoch 23/30\n",
      "300/300 [==============================] - 2s 8ms/step - loss: 0.1749 - accuracy: 0.9499 - val_loss: 22.8190 - val_accuracy: 0.9285\n",
      "Epoch 24/30\n",
      "300/300 [==============================] - 2s 8ms/step - loss: 0.1696 - accuracy: 0.9508 - val_loss: 21.5545 - val_accuracy: 0.9320\n",
      "Epoch 25/30\n",
      "300/300 [==============================] - 2s 8ms/step - loss: 0.1643 - accuracy: 0.9532 - val_loss: 21.2127 - val_accuracy: 0.9327\n",
      "Epoch 26/30\n",
      "300/300 [==============================] - 2s 8ms/step - loss: 0.1595 - accuracy: 0.9546 - val_loss: 20.4238 - val_accuracy: 0.9348\n",
      "Epoch 27/30\n",
      "300/300 [==============================] - 2s 8ms/step - loss: 0.1544 - accuracy: 0.9560 - val_loss: 20.0763 - val_accuracy: 0.9355\n",
      "Epoch 28/30\n",
      "300/300 [==============================] - 2s 8ms/step - loss: 0.1500 - accuracy: 0.9572 - val_loss: 19.5686 - val_accuracy: 0.9368\n",
      "Epoch 29/30\n",
      "300/300 [==============================] - 2s 8ms/step - loss: 0.1459 - accuracy: 0.9582 - val_loss: 18.8230 - val_accuracy: 0.9381\n",
      "Epoch 30/30\n",
      "300/300 [==============================] - 2s 8ms/step - loss: 0.1416 - accuracy: 0.9595 - val_loss: 18.8856 - val_accuracy: 0.9376\n"
     ]
    }
   ],
   "source": [
    "history = model.fit(train_x, train_y, \n",
    "                    validation_data=(test_x, test_y),\n",
    "                    epochs = 30, \n",
    "                    batch_size = 200, \n",
    "                    callbacks=[checkpoint, early_stopping_callback])"
   ]
  },
  {
   "cell_type": "code",
   "execution_count": 29,
   "id": "14108f99",
   "metadata": {},
   "outputs": [
    {
     "name": "stdout",
     "output_type": "stream",
     "text": [
      "313/313 [==============================] - 1s 2ms/step - loss: 18.8856 - accuracy: 0.9376\n",
      "test accuracy :  0.9376000165939331\n"
     ]
    }
   ],
   "source": [
    "print(\"test accuracy : \", model.evaluate(test_x, test_y)[1])"
   ]
  },
  {
   "cell_type": "code",
   "execution_count": 30,
   "id": "68a9b962",
   "metadata": {},
   "outputs": [
    {
     "data": {
      "image/png": "[encoded data removed]",
      "text/plain": [
       "<Figure size 432x288 with 1 Axes>"
      ]
     },
     "metadata": {
      "needs_background": "light"
     },
     "output_type": "display_data"
    }
   ],
   "source": [
    "y_vloss = history.history['val_loss']\n",
    "y_loss = history.history['loss']\n",
    "\n",
    "x_len = np.arange(len(y_loss))\n",
    "\n",
    "plt.plot(x_len, y_vloss, marker='.', c='red', label = 'testset_loss')\n",
    "plt.plot(x_len, y_loss, marker='.', c='blue', label = 'trainset_loss')\n",
    "\n",
    "plt.grid()\n",
    "plt.xlabel('epoch')\n",
    "plt.ylabel('loss')\n",
    "plt.show()\n",
    "plt.close()"
   ]
  },
  {
   "cell_type": "code",
   "execution_count": null,
   "id": "0ae3f7a0",
   "metadata": {},
   "outputs": [],
   "source": []
  }
 ],
 "metadata": {
  "kernelspec": {
   "display_name": "Python 3 (ipykernel)",
   "language": "python",
   "name": "python3"
  },
  "language_info": {
   "codemirror_mode": {
    "name": "ipython",
    "version": 3
   },
   "file_extension": ".py",
   "mimetype": "text/x-python",
   "name": "python",
   "nbconvert_exporter": "python",
   "pygments_lexer": "ipython3",
   "version": "3.9.7"
  }
 },
 "nbformat": 4,
 "nbformat_minor": 5
}
