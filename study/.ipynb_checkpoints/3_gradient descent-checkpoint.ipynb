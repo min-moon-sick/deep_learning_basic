{
 "cells": [
  {
   "cell_type": "code",
   "execution_count": 3,
   "id": "5104ea30",
   "metadata": {},
   "outputs": [],
   "source": [
    "import numpy as np\n",
    "import pandas as pd\n",
    "import matplotlib.pyplot as plt"
   ]
  },
  {
   "cell_type": "code",
   "execution_count": 4,
   "id": "b9cdefa0",
   "metadata": {},
   "outputs": [],
   "source": [
    "data = [[2,81], [4, 93], [6, 91], [8,97]]\n",
    "\n",
    "x = [i[0] for i in data]\n",
    "y = [i[1] for i in data]"
   ]
  },
  {
   "cell_type": "code",
   "execution_count": 6,
   "id": "2b58d7a3",
   "metadata": {},
   "outputs": [
    {
     "data": {
      "image/png": "[encoded data removed]",
      "text/plain": [
       "<Figure size 1080x216 with 1 Axes>"
      ]
     },
     "metadata": {
      "needs_background": "light"
     },
     "output_type": "display_data"
    }
   ],
   "source": [
    "plt.figure(figsize=(15,3))\n",
    "plt.scatter(x, y)\n",
    "plt.show()\n",
    "plt.close()"
   ]
  },
  {
   "cell_type": "code",
   "execution_count": 10,
   "id": "e8f1fda8",
   "metadata": {},
   "outputs": [],
   "source": [
    "x_data = np.array(x)\n",
    "y_data = np.array(y)\n",
    "\n",
    "a = 0\n",
    "b = 0\n",
    "\n",
    "lr = 0.03\n",
    "\n",
    "epoch = 1001"
   ]
  },
  {
   "cell_type": "code",
   "execution_count": 11,
   "id": "84e13034",
   "metadata": {},
   "outputs": [
    {
     "name": "stdout",
     "output_type": "stream",
     "text": [
      "epoch : 0, 기울기 : -928.0, 절편 : -181.0\n",
      "epoch : 100, 기울기 : 1.56317434127088, 절편 : -9.328872463966867\n",
      "epoch : 200, 기울기 : 0.5881221813473871, 절편 : -3.5096616561362097\n",
      "epoch : 300, 기울기 : 0.22126071489606147, 절편 : -1.3203893199383572\n",
      "epoch : 400, 기울기 : 0.08324172341799851, 절편 : -0.49675100537390193\n",
      "epoch : 500, 기울기 : 0.031316831462206096, 절편 : -0.1868854568980325\n",
      "epoch : 600, 기울기 : 0.011781879237531712, 절편 : -0.07030921653331745\n",
      "epoch : 700, 기울기 : 0.004432526277170723, 절편 : -0.026451421162342115\n",
      "epoch : 800, 기울기 : 0.001667585348798184, 절편 : -0.00995143618440153\n",
      "epoch : 900, 기울기 : 0.0006273715533069435, 절편 : -0.003743885121501478\n",
      "epoch : 1000, 기울기 : 0.0002360269393903991, 절편 : -0.0014085078317478406\n"
     ]
    },
    {
     "data": {
      "image/png": "[encoded data removed]",
      "text/plain": [
       "<Figure size 432x288 with 1 Axes>"
      ]
     },
     "metadata": {
      "needs_background": "light"
     },
     "output_type": "display_data"
    }
   ],
   "source": [
    "for i in range(epoch):\n",
    "    y_pred = a * x_data + b\n",
    "    error = y_data - y_pred\n",
    "    \n",
    "    a_diff = -(2/len(x_data)) * sum(x_data * error)\n",
    "    b_diff = -(2/len(x_data)) * sum(error)\n",
    "    \n",
    "    a = a - lr * a_diff\n",
    "    b = b - lr * b_diff\n",
    "    \n",
    "    if i % 100 == 0:\n",
    "        print(\"epoch : {}, 기울기 : {}, 절편 : {}\".format(i, a_diff, b_diff))\n",
    "        \n",
    "y_pred = a * x_data + b\n",
    "plt.scatter(x, y)\n",
    "plt.plot([min(x_data), max(x_data)], [min(y_pred), max(y_pred)])\n",
    "plt.show()\n",
    "plt.close()    "
   ]
  },
  {
   "cell_type": "code",
   "execution_count": 13,
   "id": "2f3aa920",
   "metadata": {},
   "outputs": [
    {
     "data": {
      "text/plain": [
       "88.19858182147655"
      ]
     },
     "execution_count": 13,
     "metadata": {},
     "output_type": "execute_result"
    }
   ],
   "source": [
    "a * 4 + b"
   ]
  },
  {
   "cell_type": "code",
   "execution_count": null,
   "id": "37aab7c4",
   "metadata": {},
   "outputs": [],
   "source": []
  }
 ],
 "metadata": {
  "kernelspec": {
   "display_name": "Python 3 (ipykernel)",
   "language": "python",
   "name": "python3"
  },
  "language_info": {
   "codemirror_mode": {
    "name": "ipython",
    "version": 3
   },
   "file_extension": ".py",
   "mimetype": "text/x-python",
   "name": "python",
   "nbconvert_exporter": "python",
   "pygments_lexer": "ipython3",
   "version": "3.9.7"
  }
 },
 "nbformat": 4,
 "nbformat_minor": 5
}
