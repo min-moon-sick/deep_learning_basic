{
 "cells": [
  {
   "cell_type": "code",
   "execution_count": 1,
   "id": "1904ded9",
   "metadata": {},
   "outputs": [],
   "source": [
    "import numpy as np"
   ]
  },
  {
   "cell_type": "code",
   "execution_count": 8,
   "id": "639279d1",
   "metadata": {},
   "outputs": [],
   "source": [
    "w11 = np.array([-2, -2])\n",
    "w12 = np.array([2, 2])\n",
    "w2 = np.array([1, 1])\n",
    "\n",
    "b1 = 3\n",
    "b2 = -1\n",
    "b3 = -1\n",
    "\n",
    "def mlp(x, w, b):\n",
    "    y = np.sum(w * x) + b\n",
    "    \n",
    "    if y <= 0:\n",
    "        return 0\n",
    "    else:\n",
    "        return 1\n",
    "    \n",
    "# nand\n",
    "def NAND(x1, x2):\n",
    "    return mlp(np.array([x1, x2]), w11, b1)\n",
    "\n",
    "# or\n",
    "def OR(x1, x2):\n",
    "    return mlp(np.array([x1, x2]), w12, b2)\n",
    "\n",
    "# and\n",
    "def AND(x1, x2):\n",
    "    return mlp(np.array([x1, x2]), w2, b3)\n",
    "\n",
    "# xor\n",
    "def XOR(x1, x2):\n",
    "    return AND(NAND(x1, x2), OR(x1, x2))\n"
   ]
  },
  {
   "cell_type": "code",
   "execution_count": 9,
   "id": "b4f739d4",
   "metadata": {},
   "outputs": [
    {
     "name": "stdout",
     "output_type": "stream",
     "text": [
      "입력 : (0, 0)출력 : 0\n",
      "입력 : (1, 0)출력 : 1\n",
      "입력 : (0, 1)출력 : 1\n",
      "입력 : (1, 1)출력 : 0\n"
     ]
    }
   ],
   "source": [
    "if __name__ == '__main__':\n",
    "    \n",
    "    for x in [(0,0), (1,0), (0,1), (1,1)]:\n",
    "        y = XOR(x[0], x[1])\n",
    "        \n",
    "        print(\"입력 : \" + str(x) + \"출력 : \" + str(y))"
   ]
  },
  {
   "cell_type": "code",
   "execution_count": null,
   "id": "ba254525",
   "metadata": {},
   "outputs": [],
   "source": []
  }
 ],
 "metadata": {
  "kernelspec": {
   "display_name": "Python 3 (ipykernel)",
   "language": "python",
   "name": "python3"
  },
  "language_info": {
   "codemirror_mode": {
    "name": "ipython",
    "version": 3
   },
   "file_extension": ".py",
   "mimetype": "text/x-python",
   "name": "python",
   "nbconvert_exporter": "python",
   "pygments_lexer": "ipython3",
   "version": "3.9.7"
  }
 },
 "nbformat": 4,
 "nbformat_minor": 5
}
