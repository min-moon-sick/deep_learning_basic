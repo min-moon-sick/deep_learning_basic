{
 "cells": [
  {
   "cell_type": "code",
   "execution_count": 1,
   "id": "d1a01691",
   "metadata": {},
   "outputs": [],
   "source": [
    "import numpy as np"
   ]
  },
  {
   "cell_type": "code",
   "execution_count": 2,
   "id": "1e450d00",
   "metadata": {},
   "outputs": [],
   "source": [
    "fake_a_b = [3, 76]\n",
    "\n",
    "data = [[2,81], [4, 93], [6, 91], [8,97]]\n",
    "\n",
    "x = [i[0] for i in data]\n",
    "y = [i[1] for i in data]"
   ]
  },
  {
   "cell_type": "code",
   "execution_count": 3,
   "id": "099f1a5f",
   "metadata": {},
   "outputs": [],
   "source": [
    "def predict(x):\n",
    "    return fake_a_b[0] * x + fake_a_b[1]"
   ]
  },
  {
   "cell_type": "code",
   "execution_count": 4,
   "id": "79c1dcf3",
   "metadata": {},
   "outputs": [],
   "source": [
    "def mse(y, y_hat):\n",
    "    return ((y- y_hat)**2).mean()"
   ]
  },
  {
   "cell_type": "code",
   "execution_count": 5,
   "id": "b3d9d9b9",
   "metadata": {},
   "outputs": [],
   "source": [
    "def mse_val(y, predict_result):\n",
    "    return mse(np.array(y), np.array(predict_result))"
   ]
  },
  {
   "cell_type": "code",
   "execution_count": 8,
   "id": "d1513d15",
   "metadata": {},
   "outputs": [
    {
     "name": "stdout",
     "output_type": "stream",
     "text": [
      "시간 : 2, 점수 : 81, 예측 점수 : 82\n",
      "시간 : 4, 점수 : 93, 예측 점수 : 88\n",
      "시간 : 6, 점수 : 91, 예측 점수 : 94\n",
      "시간 : 8, 점수 : 97, 예측 점수 : 100\n",
      "mse 최종값 : 11.0\n"
     ]
    }
   ],
   "source": [
    "predict_result = []\n",
    "\n",
    "for i in range(len(x)):\n",
    "    predict_result.append(predict(x[i]))\n",
    "    print(\"시간 : %.f, 점수 : %.f, 예측 점수 : %.f\" %(x[i], y[i], predict(x[i])))\n",
    "    \n",
    "print(\"mse 최종값 : \" + str(mse_val(y, predict_result)))"
   ]
  },
  {
   "cell_type": "code",
   "execution_count": null,
   "id": "1b5065ba",
   "metadata": {},
   "outputs": [],
   "source": []
  }
 ],
 "metadata": {
  "kernelspec": {
   "display_name": "Python 3 (ipykernel)",
   "language": "python",
   "name": "python3"
  },
  "language_info": {
   "codemirror_mode": {
    "name": "ipython",
    "version": 3
   },
   "file_extension": ".py",
   "mimetype": "text/x-python",
   "name": "python",
   "nbconvert_exporter": "python",
   "pygments_lexer": "ipython3",
   "version": "3.9.7"
  }
 },
 "nbformat": 4,
 "nbformat_minor": 5
}
